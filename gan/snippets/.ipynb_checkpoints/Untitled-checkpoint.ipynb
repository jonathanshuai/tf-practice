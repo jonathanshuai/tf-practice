{
 "cells": [
  {
   "attachments": {},
   "cell_type": "markdown",
   "metadata": {},
   "source": [
    "### Discriminator Rejection Sampling\n",
    "https://arxiv.org/pdf/1810.06758.pdf"
   ]
  },
  {
   "cell_type": "code",
   "execution_count": 28,
   "metadata": {},
   "outputs": [],
   "source": [
    "import numpy as np\n",
    "\n",
    "# An arbitrarily large number is needed to find a good maximum M. \n",
    "# We're just randomly sampling to find a large M, but we have no way of calculating it for real.\n",
    "arbitrary_large_number = 1000\n",
    "batch_size = 100\n",
    "N = 16\n",
    "gamma = 1e-4\n",
    "epsilon=1e-8\n",
    "\n",
    "def generator(z):\n",
    "    return np.tanh(z)\n",
    "\n",
    "def discriminator(x):\n",
    "    return 1 / (1 + np.exp(-x))\n",
    "\n",
    "def F(Dx, Dm, gamma=1e-4, epsilon=1e-8):\n",
    "    return Dx - Dm - np.log(1 - np.exp(Dx - Dm - epsilon)) - gamma"
   ]
  },
  {
   "cell_type": "code",
   "execution_count": 39,
   "metadata": {},
   "outputs": [
    {
     "name": "stderr",
     "output_type": "stream",
     "text": [
      "C:\\Users\\Jonathan\\Anaconda3\\envs\\snowflake\\lib\\site-packages\\ipykernel_launcher.py:18: RuntimeWarning: invalid value encountered in log\n",
      "C:\\Users\\Jonathan\\Anaconda3\\envs\\snowflake\\lib\\site-packages\\ipykernel_launcher.py:20: RuntimeWarning: invalid value encountered in less\n"
     ]
    },
    {
     "ename": "KeyboardInterrupt",
     "evalue": "",
     "output_type": "error",
     "traceback": [
      "\u001b[1;31m---------------------------------------------------------------------------\u001b[0m",
      "\u001b[1;31mKeyboardInterrupt\u001b[0m                         Traceback (most recent call last)",
      "\u001b[1;32m<ipython-input-39-672f09cb9e64>\u001b[0m in \u001b[0;36m<module>\u001b[1;34m\u001b[0m\n\u001b[0;32m     10\u001b[0m \u001b[0mn\u001b[0m \u001b[1;33m=\u001b[0m \u001b[1;36m0\u001b[0m\u001b[1;33m\u001b[0m\u001b[0m\n\u001b[0;32m     11\u001b[0m \u001b[1;32mwhile\u001b[0m \u001b[0mn\u001b[0m \u001b[1;33m<\u001b[0m \u001b[0mN\u001b[0m\u001b[1;33m:\u001b[0m\u001b[1;33m\u001b[0m\u001b[0m\n\u001b[1;32m---> 12\u001b[1;33m     \u001b[0mz\u001b[0m \u001b[1;33m=\u001b[0m \u001b[0mnp\u001b[0m\u001b[1;33m.\u001b[0m\u001b[0mrandom\u001b[0m\u001b[1;33m.\u001b[0m\u001b[0muniform\u001b[0m\u001b[1;33m(\u001b[0m\u001b[1;33m-\u001b[0m\u001b[1;36m1\u001b[0m\u001b[1;33m,\u001b[0m \u001b[1;36m1\u001b[0m\u001b[1;33m,\u001b[0m \u001b[1;36m100\u001b[0m\u001b[1;33m)\u001b[0m\u001b[1;33m\u001b[0m\u001b[0m\n\u001b[0m\u001b[0;32m     13\u001b[0m     \u001b[0mx\u001b[0m \u001b[1;33m=\u001b[0m \u001b[0mgenerator\u001b[0m\u001b[1;33m(\u001b[0m\u001b[0mz\u001b[0m\u001b[1;33m)\u001b[0m\u001b[1;33m\u001b[0m\u001b[0m\n\u001b[0;32m     14\u001b[0m     \u001b[0mDx\u001b[0m \u001b[1;33m=\u001b[0m \u001b[0mnp\u001b[0m\u001b[1;33m.\u001b[0m\u001b[0mexp\u001b[0m\u001b[1;33m(\u001b[0m\u001b[0mdiscriminator\u001b[0m\u001b[1;33m(\u001b[0m\u001b[0mx\u001b[0m\u001b[1;33m)\u001b[0m\u001b[1;33m)\u001b[0m\u001b[1;33m\u001b[0m\u001b[0m\n",
      "\u001b[1;31mKeyboardInterrupt\u001b[0m: "
     ]
    }
   ],
   "source": [
    "# This is the burn in where we find the maximum M\n",
    "M_max = 0\n",
    "for _ in range(arbitrary_large_number):\n",
    "    z = np.random.uniform(-1, 1, 100)\n",
    "    x = generator(z)\n",
    "    M_max = max(M_max, np.exp(discriminator(x)).max())\n",
    "\n",
    "# Now that we have the maximum M, we want to get N samples.\n",
    "samples = []\n",
    "n = 0\n",
    "while n < N:\n",
    "    z = np.random.uniform(-1, 1, 100)\n",
    "    x = generator(z)\n",
    "    Dx = np.exp(discriminator(x))\n",
    "    M_max = max(M_max, Dx.max())\n",
    "    Dm = np.log(M_max)\n",
    "    \n",
    "    p = F(Dx, Dm, gamma=1e-4, epsilon=1e-8)\n",
    "    \n",
    "    select = p < np.random.uniform(0, 1)\n",
    "    n += select.sum()\n",
    "    samples.append(x[select])\n",
    "# Our final samples\n",
    "np.concatenate(samples)[:N]"
   ]
  }
 ],
 "metadata": {
  "kernelspec": {
   "display_name": "Python 3",
   "language": "python",
   "name": "python3"
  },
  "language_info": {
   "codemirror_mode": {
    "name": "ipython",
    "version": 3
   },
   "file_extension": ".py",
   "mimetype": "text/x-python",
   "name": "python",
   "nbconvert_exporter": "python",
   "pygments_lexer": "ipython3",
   "version": "3.6.6"
  }
 },
 "nbformat": 4,
 "nbformat_minor": 2
}
