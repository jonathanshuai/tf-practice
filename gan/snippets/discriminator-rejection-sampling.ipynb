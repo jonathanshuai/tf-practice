{
 "cells": [
  {
   "attachments": {},
   "cell_type": "markdown",
   "metadata": {},
   "source": [
    "### Discriminator Rejection Sampling\n",
    "https://arxiv.org/pdf/1810.06758.pdf"
   ]
  },
  {
   "cell_type": "code",
   "execution_count": 28,
   "metadata": {},
   "outputs": [],
   "source": [
    "import numpy as np\n",
    "\n",
    "# An arbitrarily large number is needed to find a good maximum M. \n",
    "# We're just randomly sampling to find a large M, but we have no way of calculating it for real.\n",
    "arbitrary_large_number = 1000\n",
    "batch_size = 100\n",
    "N = 16\n",
    "gamma = 1e-4\n",
    "epsilon=1e-8\n",
    "\n",
    "def generator(z):\n",
    "    return np.tanh(z)\n",
    "\n",
    "def discriminator(x):\n",
    "    return 1 / (1 + np.exp(-x))\n",
    "\n",
    "def F(Dx, Dm, gamma=1e-4, epsilon=1e-8):\n",
    "    return Dx - Dm - np.log(1 - np.exp(Dx - Dm - epsilon)) - gamma"
   ]
  },
  {
   "cell_type": "code",
   "execution_count": 42,
   "metadata": {},
   "outputs": [
    {
     "data": {
      "text/plain": [
       "array([-0.69062343, -0.76084599, -0.73567418, -0.75907194, -0.68826757,\n",
       "       -0.68784227, -0.74762876, -0.73454756, -0.75017847, -0.73834533,\n",
       "       -0.74587431, -0.71941037, -0.74954551, -0.68869006, -0.68390371,\n",
       "       -0.7068058 ])"
      ]
     },
     "execution_count": 42,
     "metadata": {},
     "output_type": "execute_result"
    }
   ],
   "source": [
    "# This is the burn in where we find the maximum M\n",
    "M_max = 0\n",
    "for _ in range(arbitrary_large_number):\n",
    "    z = np.random.uniform(-1, 1, 100)\n",
    "    x = generator(z)\n",
    "    M_max = max(M_max, np.exp(discriminator(x)).max())\n",
    "\n",
    "# Now that we have the maximum M, we want to get N samples.\n",
    "samples = []\n",
    "n = 0\n",
    "while n < N:\n",
    "    z = np.random.uniform(-1, 1, 100)\n",
    "    x = generator(z)\n",
    "    Dx = discriminator(x)\n",
    "    M_max = max(M_max, Dx.max())\n",
    "    Dm = np.log(M_max)\n",
    "    \n",
    "    p = F(Dx, Dm, gamma=1e-4, epsilon=1e-8)\n",
    "    \n",
    "    select = p < np.random.uniform(0, 1)\n",
    "    n += select.sum()\n",
    "    samples.append(x[select])\n",
    "# Our final samples\n",
    "np.concatenate(samples)[:N]"
   ]
  }
 ],
 "metadata": {
  "kernelspec": {
   "display_name": "Python 3",
   "language": "python",
   "name": "python3"
  },
  "language_info": {
   "codemirror_mode": {
    "name": "ipython",
    "version": 3
   },
   "file_extension": ".py",
   "mimetype": "text/x-python",
   "name": "python",
   "nbconvert_exporter": "python",
   "pygments_lexer": "ipython3",
   "version": "3.6.6"
  }
 },
 "nbformat": 4,
 "nbformat_minor": 2
}
